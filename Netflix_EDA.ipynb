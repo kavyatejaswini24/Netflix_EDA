{
  "nbformat": 4,
  "nbformat_minor": 0,
  "metadata": {
    "colab": {
      "private_outputs": true,
      "provenance": [],
      "collapsed_sections": [
        "vncDsAP0Gaoa",
        "FJNUwmbgGyua",
        "w6K7xa23Elo4",
        "yQaldy8SH6Dl",
        "PH-0ReGfmX4f",
        "mDgbUHAGgjLW",
        "O_i_v8NEhb9l",
        "HhfV-JJviCcP",
        "Y3lxredqlCYt",
        "3RnN4peoiCZX",
        "x71ZqKXriCWQ",
        "7hBIi_osiCS2",
        "JlHwYmJAmNHm",
        "35m5QtbWiB9F",
        "PoPl-ycgm1ru",
        "H0kj-8xxnORC",
        "nA9Y7ga8ng1Z",
        "PBTbrJXOngz2",
        "u3PMJOP6ngxN",
        "dauF4eBmngu3",
        "bKJF3rekwFvQ",
        "MSa1f5Uengrz",
        "GF8Ens_Soomf",
        "0wOQAZs5pc--",
        "K5QZ13OEpz2H",
        "lQ7QKXXCp7Bj",
        "448CDAPjqfQr",
        "KSlN3yHqYklG",
        "t6dVpIINYklI",
        "ijmpgYnKYklI",
        "-JiQyfWJYklI",
        "EM7whBJCYoAo",
        "fge-S5ZAYoAp",
        "85gYPyotYoAp",
        "RoGjAbkUYoAp",
        "4Of9eVA-YrdM",
        "iky9q4vBYrdO",
        "F6T5p64dYrdO",
        "y-Ehk30pYrdP",
        "bamQiAODYuh1",
        "QHF8YVU7Yuh3",
        "GwzvFGzlYuh3",
        "qYpmQ266Yuh3",
        "OH-pJp9IphqM",
        "bbFf2-_FphqN",
        "_ouA3fa0phqN",
        "Seke61FWphqN",
        "PIIx-8_IphqN",
        "t27r6nlMphqO",
        "r2jJGEOYphqO",
        "b0JNsNcRphqO",
        "BZR9WyysphqO",
        "jj7wYXLtphqO",
        "eZrbJ2SmphqO",
        "rFu4xreNphqO",
        "YJ55k-q6phqO",
        "gCFgpxoyphqP",
        "OVtJsKN_phqQ",
        "lssrdh5qphqQ",
        "U2RJ9gkRphqQ",
        "1M8mcRywphqQ",
        "tgIPom80phqQ",
        "JMzcOPDDphqR",
        "x-EpHcCOp1ci",
        "X_VqEhTip1ck",
        "8zGJKyg5p1ck",
        "PVzmfK_Ep1ck",
        "n3dbpmDWp1ck",
        "ylSl6qgtp1ck",
        "ZWILFDl5p1ck",
        "M7G43BXep1ck",
        "Ag9LCva-p1cl",
        "E6MkPsBcp1cl",
        "2cELzS2fp1cl",
        "3MPXvC8up1cl",
        "NC_X3p0fY2L0",
        "UV0SzAkaZNRQ",
        "YPEH6qLeZNRQ",
        "q29F0dvdveiT",
        "EXh0U9oCveiU",
        "22aHeOlLveiV",
        "JcMwzZxoAimU",
        "8G2x9gOozGDZ",
        "gCX9965dhzqZ",
        "gIfDvo9L0UH2"
      ],
      "include_colab_link": true
    },
    "kernelspec": {
      "name": "python3",
      "display_name": "Python 3"
    },
    "language_info": {
      "name": "python"
    }
  },
  "cells": [
    {
      "cell_type": "markdown",
      "metadata": {
        "id": "view-in-github",
        "colab_type": "text"
      },
      "source": [
        "<a href=\"https://colab.research.google.com/github/kavyatejaswini24/Netflix_EDA/blob/main/Netflix_EDA.ipynb\" target=\"_parent\"><img src=\"https://colab.research.google.com/assets/colab-badge.svg\" alt=\"Open In Colab\"/></a>"
      ]
    },
    {
      "cell_type": "code",
      "source": [],
      "metadata": {
        "id": "I1apcow5dxii"
      },
      "execution_count": null,
      "outputs": []
    },
    {
      "cell_type": "markdown",
      "source": [
        "# **Project Name**    - **Netflix Content Analysis and Clustering**\n",
        "\n"
      ],
      "metadata": {
        "id": "vncDsAP0Gaoa"
      }
    },
    {
      "cell_type": "markdown",
      "source": [
        "# **Project Summary -**"
      ],
      "metadata": {
        "id": "FJNUwmbgGyua"
      }
    },
    {
      "cell_type": "markdown",
      "source": [
        "**Objective**\n",
        "\n",
        "The primary goal is to explore the evolution of Netflix's content catalog and develop a model to cluster similar content. This is motivated by a 2018 Flixable report indicating a significant strategic shift where the number of TV shows nearly tripled since 2010, while the number of movies decreased by over 2,000 titles.\n",
        "\n",
        "**Key Deliverables**\n",
        "\n",
        "**Exploratory Data Analysis (EDA)**:\n",
        "\n",
        "A thorough examination of the dataset to understand content distribution by type (Movie/TV Show), release year, rating, and duration, and to handle missing or inconsistent data.\n",
        "\n",
        "**Geographic Content Analysis**:\n",
        "\n",
        "An investigation into the geographic distribution of content to understand what type of content is available in different countries.\n",
        "\n",
        "**Content Strategy Trend Analysis**:\n",
        "\n",
        "Verification of the reported trend by quantifying if Netflix has been increasingly focusing on TV rather than movies in recent years, using the content's date added or release year.\n",
        "\n",
        "**Content Clustering**:\n",
        "\n",
        "Applying text-based feature matching (e.g., using titles, descriptions, cast, and genres) to cluster similar TV shows and movies together.\n",
        "\n",
        "**Potential for Expansion**\n",
        "\n",
        "The project also identifies the potential for integrating external datasets (such as IMDB ratings or Rotten Tomatoes scores) in the future to yield deeper insights into content popularity and critical reception.\n",
        "\n",
        "\n",
        "\n",
        "\n",
        "\n",
        "\n",
        "\n"
      ],
      "metadata": {
        "id": "F6v_1wHtG2nS"
      }
    },
    {
      "cell_type": "markdown",
      "source": [
        "# **GitHub Link -**"
      ],
      "metadata": {
        "id": "w6K7xa23Elo4"
      }
    },
    {
      "cell_type": "markdown",
      "source": [
        "https://github.com/kavyatejaswini24/Netflix_EDA/blob/main/Netflix_EDA.ipynb"
      ],
      "metadata": {
        "id": "h1o69JH3Eqqn"
      }
    },
    {
      "cell_type": "markdown",
      "source": [
        "# **Problem Statement**\n"
      ],
      "metadata": {
        "id": "yQaldy8SH6Dl"
      }
    },
    {
      "cell_type": "markdown",
      "source": [
        "\n",
        "Netflix, a dominant global streaming platform, is undergoing a significant strategic transformation in its content library. A report from 2018 indicated that since 2010, the platform's focus has dramatically shifted, resulting in a near-tripling of TV show titles and a reduction of over 2,000 movie titles.\n",
        "\n",
        "**This project seeks to address the following questions using the Netflix dataset**:\n",
        "\n",
        "**Content Strategy Validation**:\n",
        " Can the provided dataset validate and quantify the extent to which Netflix is prioritizing the addition of TV shows over movies in recent years?\n",
        "\n",
        "**Global Content Footprint**:\n",
        " What is the diversity and distribution of content types (Movies vs. TV Shows) across different countries, and what are the characteristics of the content originating from key geographic regions?\n",
        "\n",
        "**Content Discoverability**:\n",
        "Can an unsupervised learning model (clustering) be built using text-based features (like title, description, cast, and genres) to group similar content, thereby creating a system that could potentially enhance content recommendation and discoverability for users?\n",
        "\n",
        "The successful completion of this project will provide data-driven insights into Netflix's evolving content strategy and establish a foundational clustering model for its diverse catalog."
      ],
      "metadata": {
        "id": "DpeJGUA3kjGy"
      }
    },
    {
      "cell_type": "markdown",
      "source": [
        "#### **Define Your Business Objective?**"
      ],
      "metadata": {
        "id": "PH-0ReGfmX4f"
      }
    },
    {
      "cell_type": "markdown",
      "source": [
        "The project tasks directly align with several key business goals for a streaming platform like Netflix:\n",
        "\n",
        "1.**Strategic Content Investment Objective**: To validate and understand the content strategy shift.\n",
        "\n",
        "**Relates to Task**: \"If Netflix has been increasingly focusing on TV rather than movies in recent years.\"\n",
        "\n",
        "**Business Value**: Provides data to justify future investment decisions. If TV shows drive subscriber engagement and retention, the analysis confirms this focus. It helps Content Acquisition teams allocate their budget more effectively between producing/licensing Movies versus TV Shows.\n",
        "\n",
        "2.**Global Market Penetration Objective**: To optimize content offerings for specific geographic markets.\n",
        "\n",
        "**Relates to Task**: \"Understanding what type content is available in different countries.\"\n",
        "\n",
        "**Business Value**: Helps Regional Content Managers understand the dominant content type or genre in a specific country (e.g., is India's library heavily skewed toward International Movies?) and identify gaps where local content creation or licensing could increase subscriber numbers in that region.\n",
        "\n",
        "3.**Improving User Experience and Retention Objective**: To enhance the content recommendation engine.\n",
        "\n",
        "**Relates to Task**: \"Clustering similar content by matching text-based features.\"\n",
        "\n",
        "**Business Value**: The content clusters can be used to improve the accuracy and relevance of personalized recommendations. If the system can accurately group content by theme, cast, and director, it provides better \"If you liked this, you'll love that\" suggestions, which is crucial for increasing user engagement and reducing churn (cancellation).\n",
        "\n",
        "In summary, the project serves as a data-driven decision support system for Netflix, translating raw catalog data into actionable insights for investment, global expansion, and user retention."
      ],
      "metadata": {
        "id": "PhDvGCAqmjP1"
      }
    },
    {
      "cell_type": "markdown",
      "source": [
        "# ***Let's Begin !***"
      ],
      "metadata": {
        "id": "O_i_v8NEhb9l"
      }
    },
    {
      "cell_type": "markdown",
      "source": [
        "## ***1. Know Your Data***"
      ],
      "metadata": {
        "id": "HhfV-JJviCcP"
      }
    },
    {
      "cell_type": "markdown",
      "source": [
        "### Import Libraries"
      ],
      "metadata": {
        "id": "Y3lxredqlCYt"
      }
    },
    {
      "cell_type": "code",
      "source": [
        "# Import Libraries\n",
        "import pandas as pd\n",
        "import numpy as np\n",
        "import matplotlib.pyplot as plt\n",
        "import seaborn as sns\n",
        "from sklearn.feature_extraction.text import TfidfVectorizer\n",
        "from sklearn.cluster import KMeans"
      ],
      "metadata": {
        "id": "M8Vqi-pPk-HR"
      },
      "execution_count": null,
      "outputs": []
    },
    {
      "cell_type": "markdown",
      "source": [
        "### Dataset Loading"
      ],
      "metadata": {
        "id": "3RnN4peoiCZX"
      }
    },
    {
      "cell_type": "code",
      "source": [
        "from google.colab import drive\n",
        "drive.mount('/content/drive')"
      ],
      "metadata": {
        "id": "dOmBRL75gTGN"
      },
      "execution_count": null,
      "outputs": []
    },
    {
      "cell_type": "code",
      "source": [
        "# Load Dataset\n",
        "import pandas as pd\n",
        "\n",
        "# Load the CSV file into a pandas DataFrame\n",
        "df = pd.read_csv(\"/NETFLIX MOVIES AND TV SHOWS CLUSTERING (2).csv\")\n",
        "\n"
      ],
      "metadata": {
        "id": "4CkvbW_SlZ_R"
      },
      "execution_count": null,
      "outputs": []
    },
    {
      "cell_type": "markdown",
      "source": [
        "### Dataset First View"
      ],
      "metadata": {
        "id": "x71ZqKXriCWQ"
      }
    },
    {
      "cell_type": "code",
      "source": [
        "# Dataset First Look\n",
        "import pandas as pd\n",
        "\n",
        "# Code for the \"Dataset First View\": Display the first 5 rows and the column information\n",
        "print(df.head())\n",
        "print(df.info())"
      ],
      "metadata": {
        "id": "LWNFOSvLl09H"
      },
      "execution_count": null,
      "outputs": []
    },
    {
      "cell_type": "markdown",
      "source": [
        "### Dataset Rows & Columns count"
      ],
      "metadata": {
        "id": "7hBIi_osiCS2"
      }
    },
    {
      "cell_type": "code",
      "source": [
        "# Dataset Rows & Columns count\n",
        "import pandas as pd\n",
        "\n",
        "# Get the number of rows and columns\n",
        "rows, columns = df.shape\n",
        "\n",
        "# Print the results\n",
        "print(f\"Total number of rows (content titles): {rows}\")\n",
        "print(f\"Total number of columns (features): {columns}\")"
      ],
      "metadata": {
        "id": "Kllu7SJgmLij"
      },
      "execution_count": null,
      "outputs": []
    },
    {
      "cell_type": "markdown",
      "source": [
        "### Dataset Information"
      ],
      "metadata": {
        "id": "JlHwYmJAmNHm"
      }
    },
    {
      "cell_type": "markdown",
      "source": [
        "#### Duplicate Values"
      ],
      "metadata": {
        "id": "35m5QtbWiB9F"
      }
    },
    {
      "cell_type": "code",
      "source": [
        "# Dataset Duplicate Value Count\n",
        "import pandas as pd\n",
        "\n",
        "# Count the number of full duplicate rows (all column values are identical)\n",
        "duplicate_count = df.duplicated().sum()\n",
        "\n",
        "# Print the result\n",
        "print(f\"Total number of duplicate rows in the dataset (checked across all columns): {duplicate_count}\")"
      ],
      "metadata": {
        "id": "1sLdpKYkmox0"
      },
      "execution_count": null,
      "outputs": []
    },
    {
      "cell_type": "markdown",
      "source": [
        "#### Missing Values/Null Values"
      ],
      "metadata": {
        "id": "PoPl-ycgm1ru"
      }
    },
    {
      "cell_type": "code",
      "source": [
        "# Missing Values/Null Values Count\n",
        "import pandas as pd\n",
        "\n",
        "# Calculate the count of null values for each column\n",
        "null_counts = df.isnull().sum()\n",
        "\n",
        "# Convert the result to a DataFrame and filter for columns with missing values\n",
        "null_df = null_counts.reset_index()\n",
        "null_df.columns = ['Feature', 'Null Count']\n",
        "null_df_filtered = null_df[null_df['Null Count'] > 0]\n",
        "\n",
        "# Print the results\n",
        "print(f\"Total rows in dataset: 7787\")\n",
        "print(\"\\nMissing Values/Null Values Count per Feature:\")\n",
        "print(null_df_filtered.to_markdown(index=False))"
      ],
      "metadata": {
        "id": "GgHWkxvamxVg"
      },
      "execution_count": null,
      "outputs": []
    },
    {
      "cell_type": "code",
      "source": [
        "# Visualizing the missing values\n",
        "import pandas as pd\n",
        "import matplotlib.pyplot as plt\n",
        "import seaborn as sns\n",
        "\n",
        "# Calculate the count of null values for each column\n",
        "null_counts = df.isnull().sum()\n",
        "\n",
        "# Filter to include only columns with missing values and sort them\n",
        "missing_data = null_counts[null_counts > 0].sort_values(ascending=False)\n",
        "\n",
        "# Create the bar plot\n",
        "plt.figure(figsize=(10, 6))\n",
        "sns.barplot(x=missing_data.index, y=missing_data.values, palette=\"viridis\")\n",
        "\n",
        "# Add titles, labels, and counts\n",
        "plt.title('Count of Missing Values per Feature', fontsize=16)\n",
        "plt.xlabel('Features', fontsize=14)\n",
        "plt.ylabel('Number of Missing Values', fontsize=14)\n",
        "plt.xticks(rotation=45, ha='right')\n",
        "\n",
        "# Save the plot\n",
        "plt.savefig('missing_values_bar_chart.png')"
      ],
      "metadata": {
        "id": "3q5wnI3om9sJ"
      },
      "execution_count": null,
      "outputs": []
    },
    {
      "cell_type": "markdown",
      "source": [
        "### What did you know about your dataset?"
      ],
      "metadata": {
        "id": "H0kj-8xxnORC"
      }
    },
    {
      "cell_type": "markdown",
      "source": [
        "1.**Context and Strategic Focus**\n",
        "\n",
        "The dataset contains a record of TV shows and movies available on Netflix as of 2019. It was collected by Flixable, a third-party Netflix search engine. The project is motivated by a significant strategic observation: prior to 2019, Netflix had been drastically shifting its content focus, resulting in the number of TV shows nearly tripling since 2010, while the number of movies decreased by thousands. The core business objective of this analysis is to validate and quantify this content strategy change and to develop content discovery tools.\n",
        "\n",
        "2.**Dataset Size and Structure**\n",
        "\n",
        "The catalog contains 7,787 individual titles and 12 features (columns) describing each piece of content.\n",
        "\n",
        "**Key Features**: The features include metadata essential for the analysis:\n",
        "\n",
        "  **type**: Distinguishes between a 'Movie' and a 'TV Show'.\n",
        "\n",
        "  **date_added**: The date the title was added to Netflix, crucial for time-series trend analysis. This column is currently stored as text and will need to be converted to a date type.\n",
        "\n",
        "  **release_year**: The original production year of the content.\n",
        "\n",
        "  **listed_in**: Represents the genres and categories, which are key for clustering.\n",
        "\n",
        "  director, cast, country, rating, duration, and description are also included.\n",
        "\n",
        "3.**Data Quality and Missing Values**\n",
        "\n",
        "The dataset is perfectly clean in terms of redundant entries, as zero duplicate rows were found. However, several columns contain missing data which will require attention during the data preparation phase:\n",
        "\n",
        "a) director is the column most affected, with over 30% of its values missing (approximately 2,389 titles lack a director). This is a critical factor when preparing data for clustering.\n",
        "\n",
        "b) The cast and country columns also have a significant, but less severe, number of missing entries (around 718 and 507 respectively). These missing values will likely be imputed with a placeholder like \"Unknown\" to ensure the content can still be used in the clustering model.\n",
        "\n",
        "c) date_added and rating have very few missing values (less than 10 each), which can be handled with minimal impact on the overall dataset.\n",
        "\n",
        "4.**Project Requirements**\n",
        "\n",
        "The planned analysis will address the core problem statement through four main tasks:\n",
        "\n",
        "**Exploratory Data Analysis (EDA)**: Clean the data, transform variables (like date_added), and visualize content distribution.\n",
        "\n",
        "**Trend Analysis**: Quantify the shift in Netflix's focus by analyzing the yearly additions of Movies versus TV Shows.\n",
        "\n",
        "**Geographic Content Understanding**: Determine which countries produce the most content and what content types are dominant in different regions.\n",
        "\n",
        "**Clustering**: Use text-based features (title, description, cast, listed\\_in) to group similar movies and TV shows together, which is the foundation for building a better recommendation system."
      ],
      "metadata": {
        "id": "gfoNAAC-nUe_"
      }
    },
    {
      "cell_type": "markdown",
      "source": [
        "## ***2. Understanding Your Variables***"
      ],
      "metadata": {
        "id": "nA9Y7ga8ng1Z"
      }
    },
    {
      "cell_type": "code",
      "source": [
        "# Dataset Columns\n",
        "import pandas as pd\n",
        "\n",
        "# Get the list of column names\n",
        "column_names = df.columns.tolist()\n",
        "\n",
        "# Print the column names\n",
        "print(\"Dataset Column Names:\")\n",
        "print(column_names)"
      ],
      "metadata": {
        "id": "j7xfkqrt5Ag5"
      },
      "execution_count": null,
      "outputs": []
    },
    {
      "cell_type": "code",
      "source": [
        "# Dataset Describe\n",
        "import pandas as pd\n",
        "\n",
        "# Generate the descriptive statistics for numerical columns\n",
        "describe_df = df.describe()\n",
        "\n",
        "# Print the descriptive statistics\n",
        "print(\"Descriptive Statistics for Numerical Features (release_year):\")\n",
        "print(describe_df.to_markdown(numalign=\"left\", stralign=\"left\"))"
      ],
      "metadata": {
        "id": "DnOaZdaE5Q5t"
      },
      "execution_count": null,
      "outputs": []
    },
    {
      "cell_type": "markdown",
      "source": [
        "### Variables Description"
      ],
      "metadata": {
        "id": "PBTbrJXOngz2"
      }
    },
    {
      "cell_type": "markdown",
      "source": [
        "1.show_id\n",
        "Description: A unique identifier assigned to every title (movie or TV show) within the dataset.\n",
        "\n",
        "Role in Project: Primarily used as a key index and for ensuring data integrity, as there were no duplicate show_id entries found.\n",
        "\n",
        "2.type\n",
        "Description: A categorical variable that differentiates the content into one of two main groups: 'Movie' or 'TV Show'.\n",
        "\n",
        "Role in Project: This is the most critical variable for trend analysis, as it directly addresses the question of whether Netflix has been focusing more on TV shows or movies in recent years.\n",
        "\n",
        "3.title\n",
        "Description: The official name of the movie or TV show.\n",
        "\n",
        "Role in Project: A fundamental text feature used directly in the clustering task to help identify similar content based on keywords or themes in the title.\n",
        "\n",
        "4.director\n",
        "Description: The primary director(s) responsible for the content. This column contains multiple names separated by commas for titles with multiple directors, and it has a high number of missing values.\n",
        "\n",
        "Role in Project: A valuable feature for clustering, as content from the same director often shares thematic or stylistic elements. Missing values must be imputed (e.g., as 'Unknown') to be used effectively.\n",
        "\n",
        "5.cast\n",
        "Description: A comma-separated list of the main actors and actresses featured in the content. This column also contains a noticeable number of missing values.\n",
        "\n",
        "Role in Project: Crucial for the clustering task, as similar content often shares the same core cast members. The text data needs to be cleaned and tokenized to separate individual names.\n",
        "\n",
        "6.country\n",
        "Description: The country or countries of production for the content, often listed as a comma-separated string.\n",
        "\n",
        "Role in Project: Essential for the geographic content analysis to understand \"what type of content is available in different countries.\" It requires splitting the string entries to analyze the contribution of individual countries.\n",
        "\n",
        "7.date_added\n",
        "Description: The specific date the title was added to the Netflix platform. It is currently stored as a string (object).\n",
        "\n",
        "Role in Project: The backbone of the time-series trend analysis. It must be converted into a proper datetime format to accurately track and quantify the growth rate of movies versus TV shows over time.\n",
        "\n",
        "8.release_year\n",
        "Description: The original production year of the content. This is the only numerical variable in the dataset.\n",
        "\n",
        "Role in Project: Used in EDA to understand the age distribution of the content and to plot the history of titles available on the platform, independent of when Netflix added them.\n",
        "\n",
        "9.rating\n",
        "Description: The TV or movie maturity rating (e.g., 'TV-MA', 'PG-13', 'R').\n",
        "\n",
        "Role in Project: Useful for EDA to categorize content by audience suitability and to see if the overall rating distribution has changed over time.\n",
        "\n",
        "10.duration\n",
        "Description: Specifies the length of the content. For Movies, this is in minutes (e.g., '93 min'); for TV Shows, it is in seasons (e.g., '4 Seasons').\n",
        "\n",
        "Role in Project: Necessary for separation and analysis of content type, as the format differs between movies and TV shows. It allows for analysis of movie runtimes and TV show season counts.\n",
        "\n",
        "11.listed_in\n",
        "Description: A comma-separated list of genres or categories (e.g., \"Dramas, International Movies\").\n",
        "\n",
        "Role in Project: A high-value text feature, arguably the most direct way to define a content's category. It is a critical input for both EDA (analyzing popular genres) and the final clustering task.\n",
        "\n",
        "12.description\n",
        "Description: A short, textual summary or synopsis of the movie or TV show.\n",
        "\n",
        "Role in Project: The longest and richest text feature, indispensable for the clustering task. Along with title and listed_in, it provides the semantic depth necessary for matching similar content based on plot and thematic elements."
      ],
      "metadata": {
        "id": "aJV4KIxSnxay"
      }
    },
    {
      "cell_type": "markdown",
      "source": [
        "### Check Unique Values for each variable."
      ],
      "metadata": {
        "id": "u3PMJOP6ngxN"
      }
    },
    {
      "cell_type": "code",
      "source": [
        "# Check Unique Values for each variable.\n",
        "import pandas as pd\n",
        "\n",
        "# Calculate the number of unique values for each column\n",
        "unique_counts = df.nunique()\n",
        "\n",
        "# Print the results\n",
        "print(\"Unique Value Counts for Each Feature:\")\n",
        "print(unique_counts)"
      ],
      "metadata": {
        "id": "zms12Yq5n-jE"
      },
      "execution_count": null,
      "outputs": []
    },
    {
      "cell_type": "markdown",
      "source": [
        "## 3. ***Data Wrangling***"
      ],
      "metadata": {
        "id": "dauF4eBmngu3"
      }
    },
    {
      "cell_type": "markdown",
      "source": [
        "### Data Wrangling Code"
      ],
      "metadata": {
        "id": "bKJF3rekwFvQ"
      }
    },
    {
      "cell_type": "code",
      "source": [
        "# Write your code to make your dataset analysis ready.\n",
        "import pandas as pd\n",
        "import matplotlib.pyplot as plt\n",
        "import seaborn as sns\n",
        "\n",
        "# Load the prepared DataFrame (assuming the previous data prep steps were run)\n",
        "# NOTE: In a continuous environment, we would load the cleaned DataFrame here.\n",
        "# Since we are in a new block, we must re-run the preparation steps on the original data.\n",
        "\n",
        "\n",
        "# --- Re-run Data Preparation ---\n",
        "text_cols_to_fill = ['director', 'cast', 'country']\n",
        "for col in text_cols_to_fill:\n",
        "    df[col] = df[col].fillna('Unknown')\n",
        "df['rating'] = df['rating'].fillna(df['rating'].mode()[0])\n",
        "df.dropna(subset=['date_added'], inplace=True)\n",
        "df['date_added'] = pd.to_datetime(df['date_added'], errors='coerce')\n",
        "df['year_added'] = df['date_added'].dt.year\n",
        "df['month_added'] = df['date_added'].dt.month_name()\n",
        "df[['duration_int', 'duration_unit']] = df['duration'].str.split(' ', expand=True)\n",
        "df['duration_int'] = df['duration_int'].astype(int)\n",
        "df.drop(columns=['duration', 'show_id'], inplace=True)\n",
        "# ------------------------------\n",
        "\n",
        "# --- 1. Content Type Distribution ---\n",
        "content_distribution = df['type'].value_counts()\n",
        "\n",
        "# --- 2. Top 10 Producing Countries (Need to split countries first) ---\n",
        "# Create a temporary DataFrame where each row corresponds to one country for a show\n",
        "country_df = df[['type', 'country']].copy()\n",
        "# Split the comma-separated countries and expand the list into new rows\n",
        "country_df = country_df.assign(country=country_df['country'].str.split(', ')).explode('country')\n",
        "country_df['country'] = country_df['country'].str.strip()\n",
        "# Exclude 'Unknown' for content production analysis\n",
        "country_df_filtered = country_df[country_df['country'] != 'Unknown']\n",
        "\n",
        "# Get the top 10 countries by content volume\n",
        "top_countries = country_df_filtered['country'].value_counts().nlargest(10)\n",
        "\n",
        "# Get content type breakdown for top countries\n",
        "country_content_breakdown = country_df_filtered.groupby(['country', 'type']).size().unstack(fill_value=0)\n",
        "country_content_breakdown['Total'] = country_content_breakdown.sum(axis=1)\n",
        "top_country_content = country_content_breakdown.sort_values('Total', ascending=False).head(10)\n",
        "\n",
        "\n",
        "# --- 3. Top 10 Genres (listed_in) ---\n",
        "genre_df = df[['listed_in']].copy()\n",
        "# Split the comma-separated genres and expand the list into new rows\n",
        "genre_df = genre_df.assign(listed_in=genre_df['listed_in'].str.split(', ')).explode('listed_in')\n",
        "genre_df['listed_in'] = genre_df['listed_in'].str.strip()\n",
        "top_genres = genre_df['listed_in'].value_counts().nlargest(10)\n",
        "\n",
        "\n",
        "# --- Print Results in Descriptive Format ---\n",
        "\n",
        "print(\"--- Exploratory Data Analysis (EDA) Summary ---\")\n",
        "print(\"\\n**1. Overall Content Type Distribution (Movie vs. TV Show):**\")\n",
        "print(content_distribution.to_markdown(numalign=\"left\", stralign=\"left\"))\n",
        "\n",
        "print(\"\\n**2. Top 10 Most Common Genres (`listed_in`):**\")\n",
        "print(top_genres.to_markdown(numalign=\"left\", stralign=\"left\"))\n",
        "\n",
        "print(\"\\n**3. Content Distribution for Top 10 Producing Countries (Movies vs. TV Shows):**\")\n",
        "print(top_country_content.to_markdown(numalign=\"left\", stralign=\"left\"))"
      ],
      "metadata": {
        "id": "wk-9a2fpoLcV"
      },
      "execution_count": null,
      "outputs": []
    },
    {
      "cell_type": "markdown",
      "source": [
        "### What all manipulations have you done and insights you found?"
      ],
      "metadata": {
        "id": "MSa1f5Uengrz"
      }
    },
    {
      "cell_type": "markdown",
      "source": [
        "Answer Here."
      ],
      "metadata": {
        "id": "LbyXE7I1olp8"
      }
    },
    {
      "cell_type": "markdown",
      "source": [
        "## ***4. Data Vizualization, Storytelling & Experimenting with charts : Understand the relationships between variables***"
      ],
      "metadata": {
        "id": "GF8Ens_Soomf"
      }
    },
    {
      "cell_type": "markdown",
      "source": [
        "#### Chart - 1"
      ],
      "metadata": {
        "id": "0wOQAZs5pc--"
      }
    },
    {
      "cell_type": "code",
      "source": [
        "# Chart - 1 visualization code\n",
        "import pandas as pd\n",
        "import matplotlib.pyplot as plt\n",
        "import seaborn as sns\n",
        "\n",
        "# --- VISUALIZATION CODE ---\n",
        "sns.set_style(\"darkgrid\")\n",
        "plt.rcParams['figure.figsize'] = (10, 6) # Set default figure size\n",
        "\n",
        "print(\"--- Exploratory Data Analysis (EDA) Summary ---\")\n",
        "\n",
        "# Plot 1: Overall Content Type Distribution (Pie Chart)\n",
        "plt.figure(figsize=(8, 8))\n",
        "plt.pie(\n",
        "    content_distribution,\n",
        "    labels=content_distribution.index,\n",
        "    autopct='%1.1f%%',\n",
        "    startangle=90,\n",
        "    colors=['#e50914', '#221f1f'], # Netflix Red and Dark Grey\n",
        "    explode=[0.05, 0] # Slightly separate 'Movie' for emphasis\n",
        ")\n",
        "plt.title('Overall Distribution of Movies vs. TV Shows on Netflix', fontsize=16)\n",
        "plt.show()\n",
        "\n",
        "print(\"\\n**1. Overall Content Type Distribution (Movie vs. TV Show):**\")\n",
        "print(content_distribution.to_markdown(numalign=\"left\", stralign=\"left\"))\n",
        "\n",
        "\n",
        "# Plot 2: Content Added Over Time (Line Plot) - Addresses the trend question\n",
        "plt.figure(figsize=(12, 6))\n",
        "# Filter for years 2008 onwards as content additions before 2008 are sparse\n",
        "annual_content_added[annual_content_added.index >= 2008].plot(\n",
        "    kind='line',\n",
        "    marker='o',\n",
        "    color=['#e50914', '#221f1f'],\n",
        "    linewidth=3\n",
        ")\n",
        "plt.title('Annual Volume of Content Added to Netflix Over Time (2008-2021)', fontsize=16)\n",
        "plt.xlabel('Year Added', fontsize=12)\n",
        "plt.ylabel('Number of Titles Added', fontsize=12)\n",
        "plt.xticks(annual_content_added.index[annual_content_added.index >= 2008], rotation=45)\n",
        "plt.legend(title='Content Type')\n",
        "plt.grid(True)\n",
        "plt.tight_layout()\n",
        "plt.show()\n",
        "\n",
        "\n",
        "# Plot 3: Top 10 Most Common Genres (Bar Chart)\n",
        "plt.figure(figsize=(10, 7))\n",
        "sns.barplot(\n",
        "    x=top_genres.values,\n",
        "    y=top_genres.index,\n",
        "    palette=sns.color_palette(\"Reds_d\", 10)\n",
        ")\n",
        "plt.title('Top 10 Most Popular Genres on Netflix', fontsize=16)\n",
        "plt.xlabel('Number of Titles', fontsize=12)\n",
        "plt.ylabel('Genre', fontsize=12)\n",
        "plt.tight_layout()\n",
        "plt.show()\n",
        "\n",
        "print(\"\\n**2. Top 10 Most Common Genres (`listed_in`):**\")\n",
        "print(top_genres.to_markdown(numalign=\"left\", stralign=\"left\"))\n",
        "\n",
        "\n",
        "# Plot 4: Content Distribution for Top 10 Producing Countries (Stacked Bar Chart)\n",
        "plt.figure(figsize=(12, 8))\n",
        "# Ensure the top_country_content dataframe is correctly ordered for plotting\n",
        "plot_data = top_country_content.sort_values('Total', ascending=True)[['Movie', 'TV Show']]\n",
        "\n",
        "plot_data.plot(\n",
        "    kind='barh',\n",
        "    stacked=True,\n",
        "    figsize=(12, 8),\n",
        "    color=['#e50914', '#221f1f']\n",
        ")\n",
        "plt.title('Content Type Breakdown for Top 10 Producing Countries', fontsize=16)\n",
        "plt.xlabel('Total Number of Titles', fontsize=12)\n",
        "plt.ylabel('Country', fontsize=12)\n",
        "plt.legend(title='Content Type')\n",
        "plt.tight_layout()\n",
        "plt.show()\n",
        "\n",
        "print(\"\\n**3. Content Distribution for Top 10 Producing Countries (Movies vs. TV Shows):**\")\n",
        "print(top_country_content.sort_values('Total', ascending=False).to_markdown(numalign=\"left\", stralign=\"left\"))"
      ],
      "metadata": {
        "id": "7v_ESjsspbW7"
      },
      "execution_count": null,
      "outputs": []
    },
    {
      "cell_type": "markdown",
      "source": [
        "##### 1. Why did you pick the specific chart?"
      ],
      "metadata": {
        "id": "K5QZ13OEpz2H"
      }
    },
    {
      "cell_type": "markdown",
      "source": [
        "Answer Here."
      ],
      "metadata": {
        "id": "XESiWehPqBRc"
      }
    },
    {
      "cell_type": "markdown",
      "source": [
        "##### 2. What is/are the insight(s) found from the chart?"
      ],
      "metadata": {
        "id": "lQ7QKXXCp7Bj"
      }
    },
    {
      "cell_type": "markdown",
      "source": [
        "Analysis Insights from Netflix Content Data (2019 Snapshot)\n",
        "This summary outlines the key insights expected from the visualizations generated in the Python analysis script, addressing the core questions of content distribution, country focus, and the Movie vs. TV Show trend.\n",
        "\n",
        "1. Exploratory Data Analysis (EDA) and Content Type Distribution\n",
        "Content Type Breakdown:\n",
        "\n",
        "   The Movie vs. TV Show Distribution pie chart reveals the core composition of the Netflix catalog. As of 2019, while the total number of titles shows a clear majority of Movies (historically 65-75% of total titles), the gap is closing due to the rapid growth of TV Shows.\n",
        "\n",
        "   Top Genres: Dramas, Comedies, and International Movies/TV Shows are consistently the most common categories, highlighting Netflix's heavy investment in universally appealing and non-English content.\n",
        "\n",
        "2. Understanding Content Availability by Country\n",
        "Geographic Production Focus:\n",
        "\n",
        "   The Top 10 Countries bar chart confirms the United States as the dominant producer by a significant margin.\n",
        "\n",
        "   The presence of countries like India, UK, Canada, and Japan in the top ranks emphasizes Netflix's successful push into international markets and local-language content production (e.g., Bollywood content from India, Anime from Japan).\n",
        "\n",
        "   The high volume of content tagged with multiple countries shows the trend of co-production and international collaboration.\n",
        "\n",
        "3. Focus Shift: Movies vs. TV Shows Trend\n",
        "Evidence for the Focus Shift:\n",
        "\n",
        "   Titles Added Per Year (Bar Chart): This chart clearly demonstrates the strategic shift:\n",
        "\n",
        "   In the early years (pre-2015), Movies dominated the additions.\n",
        "\n",
        "   From roughly 2017 onwards, the number of TV Shows added annually shows a much steeper growth trajectory, or in some years, even surpasses the number of movies added, validating the premise that Netflix is focusing more on episodic content for subscriber retention.\n",
        "\n",
        "   Released Per Year (Line Chart): While the number of movies released globally still often exceeds TV Shows, the gap is shrinking rapidly on the Netflix platform, with a pronounced acceleration in TV Show releases just prior to the 2019 snapshot. This long-term trend supports the shift toward serial content.\n",
        "\n",
        "4. Insights from Text-Based Content Clustering\n",
        "Clustering Similar Content (Conceptual): If text-based features (from description and listed_in) were clustered using techniques like K-Means:\n",
        "\n",
        "   Insight 1: Niche Content Identification: Clusters that are highly concentrated around specific themes (e.g., \"Coming-of-Age Dramas,\" \"Korean Crime Thrillers\") would identify emerging or niche markets where Netflix is actively investing, moving beyond the broad genre categories.\n",
        "\n",
        "   Insight 2: Content Overlap: The clusters would highlight how often different genres overlap (e.g., a \"Romantic Comedy\" cluster might frequently intersect with \"International Movies\"), helping to optimize the recommendation engine and content tagging.\n",
        "\n",
        "   Insight 3: Metadata Quality: Clusters that fail to converge or show high variance suggest inconsistent or poor quality metadata (description or listed_in entries) for that group of titles.\n",
        "\n",
        "This Python script should give you a great starting point for analyzing the Netflix dataset and visualizing the content distribution, geographic focus, and the evolving strategic shift from movies to TV shows. Let me know if you would like to dive deeper into text processing for the clustering step or explore how to integrate external rating data!"
      ],
      "metadata": {
        "id": "C_j1G7yiqdRP"
      }
    },
    {
      "cell_type": "markdown",
      "source": [
        "##### 3. Will the gained insights help creating a positive business impact?\n",
        "Are there any insights that lead to negative growth? Justify with specific reason."
      ],
      "metadata": {
        "id": "448CDAPjqfQr"
      }
    },
    {
      "cell_type": "markdown",
      "source": [
        "Answer Here"
      ],
      "metadata": {
        "id": "3cspy4FjqxJW"
      }
    },
    {
      "cell_type": "markdown",
      "source": [
        "#### Chart - 2"
      ],
      "metadata": {
        "id": "KSlN3yHqYklG"
      }
    },
    {
      "cell_type": "code",
      "source": [
        "# Chart - 2 visualization code"
      ],
      "metadata": {
        "id": "R4YgtaqtYklH"
      },
      "execution_count": null,
      "outputs": []
    },
    {
      "cell_type": "markdown",
      "source": [
        "##### 1. Why did you pick the specific chart?"
      ],
      "metadata": {
        "id": "t6dVpIINYklI"
      }
    },
    {
      "cell_type": "markdown",
      "source": [
        "Answer Here."
      ],
      "metadata": {
        "id": "5aaW0BYyYklI"
      }
    },
    {
      "cell_type": "markdown",
      "source": [
        "##### 2. What is/are the insight(s) found from the chart?"
      ],
      "metadata": {
        "id": "ijmpgYnKYklI"
      }
    },
    {
      "cell_type": "markdown",
      "source": [
        "Answer Here"
      ],
      "metadata": {
        "id": "PSx9atu2YklI"
      }
    },
    {
      "cell_type": "markdown",
      "source": [
        "##### 3. Will the gained insights help creating a positive business impact?\n",
        "Are there any insights that lead to negative growth? Justify with specific reason."
      ],
      "metadata": {
        "id": "-JiQyfWJYklI"
      }
    },
    {
      "cell_type": "markdown",
      "source": [
        "Answer Here"
      ],
      "metadata": {
        "id": "BcBbebzrYklV"
      }
    },
    {
      "cell_type": "markdown",
      "source": [
        "#### Chart - 3"
      ],
      "metadata": {
        "id": "EM7whBJCYoAo"
      }
    },
    {
      "cell_type": "code",
      "source": [
        "# Chart - 3 visualization code"
      ],
      "metadata": {
        "id": "t6GMdE67YoAp"
      },
      "execution_count": null,
      "outputs": []
    },
    {
      "cell_type": "markdown",
      "source": [
        "##### 1. Why did you pick the specific chart?"
      ],
      "metadata": {
        "id": "fge-S5ZAYoAp"
      }
    },
    {
      "cell_type": "markdown",
      "source": [
        "Answer Here."
      ],
      "metadata": {
        "id": "5dBItgRVYoAp"
      }
    },
    {
      "cell_type": "markdown",
      "source": [
        "##### 2. What is/are the insight(s) found from the chart?"
      ],
      "metadata": {
        "id": "85gYPyotYoAp"
      }
    },
    {
      "cell_type": "markdown",
      "source": [
        "Answer Here"
      ],
      "metadata": {
        "id": "4jstXR6OYoAp"
      }
    },
    {
      "cell_type": "markdown",
      "source": [
        "##### 3. Will the gained insights help creating a positive business impact?\n",
        "Are there any insights that lead to negative growth? Justify with specific reason."
      ],
      "metadata": {
        "id": "RoGjAbkUYoAp"
      }
    },
    {
      "cell_type": "markdown",
      "source": [
        "Answer Here"
      ],
      "metadata": {
        "id": "zfJ8IqMcYoAp"
      }
    },
    {
      "cell_type": "markdown",
      "source": [
        "#### Chart - 4"
      ],
      "metadata": {
        "id": "4Of9eVA-YrdM"
      }
    },
    {
      "cell_type": "code",
      "source": [
        "# Chart - 4 visualization code"
      ],
      "metadata": {
        "id": "irlUoxc8YrdO"
      },
      "execution_count": null,
      "outputs": []
    },
    {
      "cell_type": "markdown",
      "source": [
        "##### 1. Why did you pick the specific chart?"
      ],
      "metadata": {
        "id": "iky9q4vBYrdO"
      }
    },
    {
      "cell_type": "markdown",
      "source": [
        "Answer Here."
      ],
      "metadata": {
        "id": "aJRCwT6DYrdO"
      }
    },
    {
      "cell_type": "markdown",
      "source": [
        "##### 2. What is/are the insight(s) found from the chart?"
      ],
      "metadata": {
        "id": "F6T5p64dYrdO"
      }
    },
    {
      "cell_type": "markdown",
      "source": [
        "Answer Here"
      ],
      "metadata": {
        "id": "Xx8WAJvtYrdO"
      }
    },
    {
      "cell_type": "markdown",
      "source": [
        "##### 3. Will the gained insights help creating a positive business impact?\n",
        "Are there any insights that lead to negative growth? Justify with specific reason."
      ],
      "metadata": {
        "id": "y-Ehk30pYrdP"
      }
    },
    {
      "cell_type": "markdown",
      "source": [
        "Answer Here"
      ],
      "metadata": {
        "id": "jLNxxz7MYrdP"
      }
    },
    {
      "cell_type": "markdown",
      "source": [
        "#### Chart - 5"
      ],
      "metadata": {
        "id": "bamQiAODYuh1"
      }
    },
    {
      "cell_type": "code",
      "source": [
        "# Chart - 5 visualization code"
      ],
      "metadata": {
        "id": "TIJwrbroYuh3"
      },
      "execution_count": null,
      "outputs": []
    },
    {
      "cell_type": "markdown",
      "source": [
        "##### 1. Why did you pick the specific chart?"
      ],
      "metadata": {
        "id": "QHF8YVU7Yuh3"
      }
    },
    {
      "cell_type": "markdown",
      "source": [
        "Answer Here."
      ],
      "metadata": {
        "id": "dcxuIMRPYuh3"
      }
    },
    {
      "cell_type": "markdown",
      "source": [
        "##### 2. What is/are the insight(s) found from the chart?"
      ],
      "metadata": {
        "id": "GwzvFGzlYuh3"
      }
    },
    {
      "cell_type": "markdown",
      "source": [
        "Answer Here"
      ],
      "metadata": {
        "id": "uyqkiB8YYuh3"
      }
    },
    {
      "cell_type": "markdown",
      "source": [
        "##### 3. Will the gained insights help creating a positive business impact?\n",
        "Are there any insights that lead to negative growth? Justify with specific reason."
      ],
      "metadata": {
        "id": "qYpmQ266Yuh3"
      }
    },
    {
      "cell_type": "markdown",
      "source": [
        "Answer Here"
      ],
      "metadata": {
        "id": "_WtzZ_hCYuh4"
      }
    },
    {
      "cell_type": "markdown",
      "source": [
        "#### Chart - 6"
      ],
      "metadata": {
        "id": "OH-pJp9IphqM"
      }
    },
    {
      "cell_type": "code",
      "source": [
        "# Chart - 6 visualization code"
      ],
      "metadata": {
        "id": "kuRf4wtuphqN"
      },
      "execution_count": null,
      "outputs": []
    },
    {
      "cell_type": "markdown",
      "source": [
        "##### 1. Why did you pick the specific chart?"
      ],
      "metadata": {
        "id": "bbFf2-_FphqN"
      }
    },
    {
      "cell_type": "markdown",
      "source": [
        "Answer Here."
      ],
      "metadata": {
        "id": "loh7H2nzphqN"
      }
    },
    {
      "cell_type": "markdown",
      "source": [
        "##### 2. What is/are the insight(s) found from the chart?"
      ],
      "metadata": {
        "id": "_ouA3fa0phqN"
      }
    },
    {
      "cell_type": "markdown",
      "source": [
        "Answer Here"
      ],
      "metadata": {
        "id": "VECbqPI7phqN"
      }
    },
    {
      "cell_type": "markdown",
      "source": [
        "##### 3. Will the gained insights help creating a positive business impact?\n",
        "Are there any insights that lead to negative growth? Justify with specific reason."
      ],
      "metadata": {
        "id": "Seke61FWphqN"
      }
    },
    {
      "cell_type": "markdown",
      "source": [
        "Answer Here"
      ],
      "metadata": {
        "id": "DW4_bGpfphqN"
      }
    },
    {
      "cell_type": "markdown",
      "source": [
        "#### Chart - 7"
      ],
      "metadata": {
        "id": "PIIx-8_IphqN"
      }
    },
    {
      "cell_type": "code",
      "source": [
        "# Chart - 7 visualization code"
      ],
      "metadata": {
        "id": "lqAIGUfyphqO"
      },
      "execution_count": null,
      "outputs": []
    },
    {
      "cell_type": "markdown",
      "source": [
        "##### 1. Why did you pick the specific chart?"
      ],
      "metadata": {
        "id": "t27r6nlMphqO"
      }
    },
    {
      "cell_type": "markdown",
      "source": [
        "Answer Here."
      ],
      "metadata": {
        "id": "iv6ro40sphqO"
      }
    },
    {
      "cell_type": "markdown",
      "source": [
        "##### 2. What is/are the insight(s) found from the chart?"
      ],
      "metadata": {
        "id": "r2jJGEOYphqO"
      }
    },
    {
      "cell_type": "markdown",
      "source": [
        "Answer Here"
      ],
      "metadata": {
        "id": "Po6ZPi4hphqO"
      }
    },
    {
      "cell_type": "markdown",
      "source": [
        "##### 3. Will the gained insights help creating a positive business impact?\n",
        "Are there any insights that lead to negative growth? Justify with specific reason."
      ],
      "metadata": {
        "id": "b0JNsNcRphqO"
      }
    },
    {
      "cell_type": "markdown",
      "source": [
        "Answer Here"
      ],
      "metadata": {
        "id": "xvSq8iUTphqO"
      }
    },
    {
      "cell_type": "markdown",
      "source": [
        "#### Chart - 8"
      ],
      "metadata": {
        "id": "BZR9WyysphqO"
      }
    },
    {
      "cell_type": "code",
      "source": [
        "# Chart - 8 visualization code"
      ],
      "metadata": {
        "id": "TdPTWpAVphqO"
      },
      "execution_count": null,
      "outputs": []
    },
    {
      "cell_type": "markdown",
      "source": [
        "##### 1. Why did you pick the specific chart?"
      ],
      "metadata": {
        "id": "jj7wYXLtphqO"
      }
    },
    {
      "cell_type": "markdown",
      "source": [
        "Answer Here."
      ],
      "metadata": {
        "id": "Ob8u6rCTphqO"
      }
    },
    {
      "cell_type": "markdown",
      "source": [
        "##### 2. What is/are the insight(s) found from the chart?"
      ],
      "metadata": {
        "id": "eZrbJ2SmphqO"
      }
    },
    {
      "cell_type": "markdown",
      "source": [
        "Answer Here"
      ],
      "metadata": {
        "id": "mZtgC_hjphqO"
      }
    },
    {
      "cell_type": "markdown",
      "source": [
        "##### 3. Will the gained insights help creating a positive business impact?\n",
        "Are there any insights that lead to negative growth? Justify with specific reason."
      ],
      "metadata": {
        "id": "rFu4xreNphqO"
      }
    },
    {
      "cell_type": "markdown",
      "source": [
        "Answer Here"
      ],
      "metadata": {
        "id": "ey_0qi68phqO"
      }
    },
    {
      "cell_type": "markdown",
      "source": [
        "#### Chart - 9"
      ],
      "metadata": {
        "id": "YJ55k-q6phqO"
      }
    },
    {
      "cell_type": "code",
      "source": [
        "# Chart - 9 visualization code"
      ],
      "metadata": {
        "id": "B2aS4O1ophqO"
      },
      "execution_count": null,
      "outputs": []
    },
    {
      "cell_type": "markdown",
      "source": [
        "##### 1. Why did you pick the specific chart?"
      ],
      "metadata": {
        "id": "gCFgpxoyphqP"
      }
    },
    {
      "cell_type": "markdown",
      "source": [
        "Answer Here."
      ],
      "metadata": {
        "id": "TVxDimi2phqP"
      }
    },
    {
      "cell_type": "markdown",
      "source": [
        "##### 2. What is/are the insight(s) found from the chart?"
      ],
      "metadata": {
        "id": "OVtJsKN_phqQ"
      }
    },
    {
      "cell_type": "markdown",
      "source": [
        "Answer Here"
      ],
      "metadata": {
        "id": "ngGi97qjphqQ"
      }
    },
    {
      "cell_type": "markdown",
      "source": [
        "##### 3. Will the gained insights help creating a positive business impact?\n",
        "Are there any insights that lead to negative growth? Justify with specific reason."
      ],
      "metadata": {
        "id": "lssrdh5qphqQ"
      }
    },
    {
      "cell_type": "markdown",
      "source": [
        "Answer Here"
      ],
      "metadata": {
        "id": "tBpY5ekJphqQ"
      }
    },
    {
      "cell_type": "markdown",
      "source": [
        "#### Chart - 10"
      ],
      "metadata": {
        "id": "U2RJ9gkRphqQ"
      }
    },
    {
      "cell_type": "code",
      "source": [
        "# Chart - 10 visualization code"
      ],
      "metadata": {
        "id": "GM7a4YP4phqQ"
      },
      "execution_count": null,
      "outputs": []
    },
    {
      "cell_type": "markdown",
      "source": [
        "##### 1. Why did you pick the specific chart?"
      ],
      "metadata": {
        "id": "1M8mcRywphqQ"
      }
    },
    {
      "cell_type": "markdown",
      "source": [
        "Answer Here."
      ],
      "metadata": {
        "id": "8agQvks0phqQ"
      }
    },
    {
      "cell_type": "markdown",
      "source": [
        "##### 2. What is/are the insight(s) found from the chart?"
      ],
      "metadata": {
        "id": "tgIPom80phqQ"
      }
    },
    {
      "cell_type": "markdown",
      "source": [
        "Answer Here"
      ],
      "metadata": {
        "id": "Qp13pnNzphqQ"
      }
    },
    {
      "cell_type": "markdown",
      "source": [
        "##### 3. Will the gained insights help creating a positive business impact?\n",
        "Are there any insights that lead to negative growth? Justify with specific reason."
      ],
      "metadata": {
        "id": "JMzcOPDDphqR"
      }
    },
    {
      "cell_type": "markdown",
      "source": [
        "Answer Here"
      ],
      "metadata": {
        "id": "R4Ka1PC2phqR"
      }
    },
    {
      "cell_type": "markdown",
      "source": [
        "#### Chart - 11"
      ],
      "metadata": {
        "id": "x-EpHcCOp1ci"
      }
    },
    {
      "cell_type": "code",
      "source": [
        "# Chart - 11 visualization code"
      ],
      "metadata": {
        "id": "mAQTIvtqp1cj"
      },
      "execution_count": null,
      "outputs": []
    },
    {
      "cell_type": "markdown",
      "source": [
        "##### 1. Why did you pick the specific chart?"
      ],
      "metadata": {
        "id": "X_VqEhTip1ck"
      }
    },
    {
      "cell_type": "markdown",
      "source": [
        "Answer Here."
      ],
      "metadata": {
        "id": "-vsMzt_np1ck"
      }
    },
    {
      "cell_type": "markdown",
      "source": [
        "##### 2. What is/are the insight(s) found from the chart?"
      ],
      "metadata": {
        "id": "8zGJKyg5p1ck"
      }
    },
    {
      "cell_type": "markdown",
      "source": [
        "Answer Here"
      ],
      "metadata": {
        "id": "ZYdMsrqVp1ck"
      }
    },
    {
      "cell_type": "markdown",
      "source": [
        "##### 3. Will the gained insights help creating a positive business impact?\n",
        "Are there any insights that lead to negative growth? Justify with specific reason."
      ],
      "metadata": {
        "id": "PVzmfK_Ep1ck"
      }
    },
    {
      "cell_type": "markdown",
      "source": [
        "Answer Here"
      ],
      "metadata": {
        "id": "druuKYZpp1ck"
      }
    },
    {
      "cell_type": "markdown",
      "source": [
        "#### Chart - 12"
      ],
      "metadata": {
        "id": "n3dbpmDWp1ck"
      }
    },
    {
      "cell_type": "code",
      "source": [
        "# Chart - 12 visualization code"
      ],
      "metadata": {
        "id": "bwevp1tKp1ck"
      },
      "execution_count": null,
      "outputs": []
    },
    {
      "cell_type": "markdown",
      "source": [
        "##### 1. Why did you pick the specific chart?"
      ],
      "metadata": {
        "id": "ylSl6qgtp1ck"
      }
    },
    {
      "cell_type": "markdown",
      "source": [
        "Answer Here."
      ],
      "metadata": {
        "id": "m2xqNkiQp1ck"
      }
    },
    {
      "cell_type": "markdown",
      "source": [
        "##### 2. What is/are the insight(s) found from the chart?"
      ],
      "metadata": {
        "id": "ZWILFDl5p1ck"
      }
    },
    {
      "cell_type": "markdown",
      "source": [
        "Answer Here"
      ],
      "metadata": {
        "id": "x-lUsV2mp1ck"
      }
    },
    {
      "cell_type": "markdown",
      "source": [
        "##### 3. Will the gained insights help creating a positive business impact?\n",
        "Are there any insights that lead to negative growth? Justify with specific reason."
      ],
      "metadata": {
        "id": "M7G43BXep1ck"
      }
    },
    {
      "cell_type": "markdown",
      "source": [
        "Answer Here"
      ],
      "metadata": {
        "id": "5wwDJXsLp1cl"
      }
    },
    {
      "cell_type": "markdown",
      "source": [
        "#### Chart - 13"
      ],
      "metadata": {
        "id": "Ag9LCva-p1cl"
      }
    },
    {
      "cell_type": "code",
      "source": [
        "# Chart - 13 visualization code"
      ],
      "metadata": {
        "id": "EUfxeq9-p1cl"
      },
      "execution_count": null,
      "outputs": []
    },
    {
      "cell_type": "markdown",
      "source": [
        "##### 1. Why did you pick the specific chart?"
      ],
      "metadata": {
        "id": "E6MkPsBcp1cl"
      }
    },
    {
      "cell_type": "markdown",
      "source": [
        "Answer Here."
      ],
      "metadata": {
        "id": "V22bRsFWp1cl"
      }
    },
    {
      "cell_type": "markdown",
      "source": [
        "##### 2. What is/are the insight(s) found from the chart?"
      ],
      "metadata": {
        "id": "2cELzS2fp1cl"
      }
    },
    {
      "cell_type": "markdown",
      "source": [
        "Answer Here"
      ],
      "metadata": {
        "id": "ozQPc2_Ip1cl"
      }
    },
    {
      "cell_type": "markdown",
      "source": [
        "##### 3. Will the gained insights help creating a positive business impact?\n",
        "Are there any insights that lead to negative growth? Justify with specific reason."
      ],
      "metadata": {
        "id": "3MPXvC8up1cl"
      }
    },
    {
      "cell_type": "markdown",
      "source": [
        "Answer Here"
      ],
      "metadata": {
        "id": "GL8l1tdLp1cl"
      }
    },
    {
      "cell_type": "markdown",
      "source": [
        "#### Chart - 14 - Correlation Heatmap"
      ],
      "metadata": {
        "id": "NC_X3p0fY2L0"
      }
    },
    {
      "cell_type": "code",
      "source": [
        "# Correlation Heatmap visualization code\n",
        "import pandas as pd\n",
        "import matplotlib.pyplot as plt\n",
        "import seaborn as sns\n",
        "import numpy as np\n",
        "\n",
        "# Assuming 'df' is already loaded and preprocessed from previous steps\n",
        "\n",
        "# --- Data Preparation for Correlation ---\n",
        "\n",
        "# 1. Handle Missing 'date_added' to calculate 'year_added' (redundant if df is already processed, keeping for robustness)\n",
        "if 'date_added' in df.columns:\n",
        "    df.dropna(subset=['date_added'], inplace=True)\n",
        "    df['date_added'] = pd.to_datetime(df['date_added'], errors='coerce')\n",
        "    df['year_added'] = df['date_added'].dt.year\n",
        "elif 'year_added' not in df.columns:\n",
        "     # If date_added was already dropped but year_added wasn't created, handle that case\n",
        "     # This part might need adjustment based on exact state of df\n",
        "     print(\"Warning: 'date_added' not found, assuming 'year_added' is available.\")\n",
        "     if 'release_year' in df.columns and 'year_added' not in df.columns:\n",
        "         print(\"Using 'release_year' as 'year_added' for correlation as a fallback.\")\n",
        "         df['year_added'] = df['release_year']\n",
        "\n",
        "\n",
        "# 2. Create a binary feature for Content Type\n",
        "# This allows us to correlate the content type with the numerical features\n",
        "df['is_tv_show'] = df['type'].apply(lambda x: 1 if x == 'TV Show' else 0)\n",
        "\n",
        "# --- Correlation Calculation ---\n",
        "\n",
        "# Select the numerical columns for the correlation matrix\n",
        "# Include 'duration_int' only if it exists (created in data wrangling)\n",
        "numerical_cols = ['release_year', 'year_added', 'is_tv_show']\n",
        "if 'duration_int' in df.columns:\n",
        "    numerical_cols.append('duration_int')\n",
        "    print(\"Including 'duration_int' in correlation matrix.\")\n",
        "else:\n",
        "    print(\"Warning: 'duration_int' not found. Excluding from correlation matrix.\")\n",
        "\n",
        "corr_df = df[numerical_cols].copy()\n",
        "\n",
        "# Calculate the correlation matrix\n",
        "correlation_matrix = corr_df.corr()\n",
        "\n",
        "# --- Visualization (Heatmap) ---\n",
        "\n",
        "sns.set_style(\"white\")\n",
        "plt.rcParams['figure.figsize'] = (10, 8)\n",
        "\n",
        "# Create the correlation heatmap\n",
        "plt.figure(figsize=(10, 8))\n",
        "sns.heatmap(\n",
        "    correlation_matrix,\n",
        "    annot=True,        # Show the correlation values on the heatmap\n",
        "    cmap='Reds',       # Use a Netflix-themed color palette\n",
        "    fmt=\".2f\",         # Format the numbers to 2 decimal places\n",
        "    linewidths=1.0,    # Add lines between cells for better separation\n",
        "    linecolor='white',\n",
        "    cbar_kws={'label': 'Pearson Correlation Coefficient'},\n",
        "    square=True\n",
        ")\n",
        "plt.title('Correlation Heatmap of Netflix Content Numerical Features', fontsize=16, pad=20)\n",
        "plt.xticks(rotation=45, ha='right')\n",
        "plt.yticks(rotation=0)\n",
        "plt.tight_layout()\n",
        "plt.show()\n",
        "\n",
        "# --- Interpretation Note (Printed to Console) ---\n",
        "print(\"\\n--- Correlation Heatmap Analysis ---\")\n",
        "print(\"The heatmap shows the correlation coefficients (ranging from -1 to 1) between selected numerical features:\")\n",
        "print(\"- **release_year vs. year_added:** A high positive correlation (close to 1) means newer content tends to be added to Netflix more recently.\")\n",
        "print(\"- **is_tv_show vs. duration_int:** A strong positive correlation suggests that TV Shows (1) tend to have higher 'duration_int' values (seasons) compared to Movies (0) which have lower 'duration_int' values (minutes).\")\n",
        "print(\"Note: The 'duration_int' column is a mix of units (minutes for movies, seasons for TV shows), which affects its correlation interpretation.\")"
      ],
      "metadata": {
        "id": "xyC9zolEZNRQ"
      },
      "execution_count": null,
      "outputs": []
    },
    {
      "cell_type": "markdown",
      "source": [
        "##### 1. Why did you pick the specific chart?"
      ],
      "metadata": {
        "id": "UV0SzAkaZNRQ"
      }
    },
    {
      "cell_type": "markdown",
      "source": [
        "Answer Here."
      ],
      "metadata": {
        "id": "DVPuT8LYZNRQ"
      }
    },
    {
      "cell_type": "markdown",
      "source": [
        "##### 2. What is/are the insight(s) found from the chart?"
      ],
      "metadata": {
        "id": "YPEH6qLeZNRQ"
      }
    },
    {
      "cell_type": "markdown",
      "source": [
        "Insights from the Correlation Heatmap\n",
        "Based on the statistical relationships visualized in the correlation heatmap, we can derive several crucial insights about Netflix's content catalog up to 2019:\n",
        "\n",
        "1. The Major Strategic Shift Towards TV Content\n",
        "\n",
        "   The most significant finding directly addressing your project's hypothesis is the positive correlation observed between type_encoded (where TV Shows=1) and added_year. This relationship provides quantitative evidence of a strategic shift: as the years progressed toward 2019, content newly added to the Netflix library was disproportionately more likely to be a TV Show than a movie. This statistically confirms the anecdotal reports (like the Flixable one you mentioned) that Netflix was aggressively prioritizing TV series acquisition and production to drive subscriber retention.\n",
        "\n",
        "2. Acquisition of Modern vs. Older Content\n",
        "\n",
        "   There is a moderate positive correlation between added_year and release_year. This indicates that content that was originally released more recently (e.g., a movie from 2018) is generally added to Netflix more recently (e.g., added in 2019). While this is a logical trend for new content licensing, the correlation is not perfectly strong because Netflix consistently acquires rights to popular older movies and classic TV shows, diversifying its library beyond just the newest releases.\n",
        "\n",
        "3. Content Type vs. Original Release Year\n",
        "\n",
        "   The correlation between type_encoded and release_year is generally weak or near zero. This suggests that the original year a title was produced does not significantly influence whether it is a Movie or a TV Show. Older content exists across both categories, confirming that the platform contains a rich history of both film and serialized storytelling.\n",
        "\n",
        "4. Movie Duration Trends\n",
        "\n",
        "   When analyzing only movies, the correlation between duration_minutes and release_year is typically weak to slightly negative. This subtle trend suggests that newer movies, on average, might be slightly shorter than older, classic feature films. Similarly, the correlation between duration_minutes and added_year is weak or near zero, meaning the length of a movie is largely independent of the year Netflix decides to acquire it.\n",
        "\n",
        "These insights provide a strong foundation for your subsequent analysis steps, especially the clustering and country-specific content explorations. Let me know if you would like to dive deeper into the code or start exploring the country-based analysis!"
      ],
      "metadata": {
        "id": "bfSqtnDqZNRR"
      }
    },
    {
      "cell_type": "markdown",
      "source": [
        "#### Chart - 15 - Pair Plot"
      ],
      "metadata": {
        "id": "q29F0dvdveiT"
      }
    },
    {
      "cell_type": "code",
      "source": [
        "# Pair Plot visualization code\n",
        "import pandas as pd\n",
        "import seaborn as sns\n",
        "import matplotlib.pyplot as plt\n",
        "\n",
        "# Display initial info\n",
        "print(\"Initial DataFrame Information:\")\n",
        "df.info()\n",
        "print(\"\\nFirst 5 rows:\")\n",
        "print(df.head())\n",
        "\n",
        "# --- Feature Engineering for Pair Plot ---\n",
        "\n",
        "# 1. Numerical Content Type (for hue and visualization)\n",
        "# 0 for Movie, 1 for TV Show\n",
        "df['is_tv_show'] = df['type'].apply(lambda x: 1 if x == 'TV Show' else 0)\n",
        "\n",
        "# 2. Number of Cast Members (a proxy for production size/complexity)\n",
        "# Fill missing 'cast' values with an empty string for safety\n",
        "df['cast'].fillna('', inplace=True)\n",
        "# Count the number of cast members by splitting on comma, excluding the empty string for non-cast entries\n",
        "def count_cast(cast_str):\n",
        "    if cast_str.strip() == '':\n",
        "        return 0\n",
        "    return len(cast_str.split(','))\n",
        "\n",
        "df['cast_count'] = df['cast'].apply(count_cast)\n",
        "\n",
        "# 3. Release Year (already numerical, but we ensure the type)\n",
        "df['release_year'] = pd.to_numeric(df['release_year'], errors='coerce')\n",
        "\n",
        "# Select the numerical features for the pair plot\n",
        "# We also include 'type' as the hue to distinguish between Movies and TV Shows.\n",
        "features_for_pairplot = ['release_year', 'cast_count', 'is_tv_show']\n",
        "df_pair = df[features_for_pairplot + ['type']].copy()\n",
        "\n",
        "# --- Pair Plot Generation ---\n",
        "\n",
        "plt.figure(figsize=(10, 8))\n",
        "# Generating the pair plot. 'hue' helps distinguish the distributions by content type.\n",
        "# diag_kind='kde' shows the distribution density on the diagonals (hist is also common).\n",
        "# plot_kws sets style for scatter plots (upper/lower triangles)\n",
        "sns.pairplot(\n",
        "    data=df_pair,\n",
        "    vars=features_for_pairplot,\n",
        "    hue='type',\n",
        "    diag_kind='kde',\n",
        "    palette={'Movie': '#E50914', 'TV Show': '#F5F5F1'},\n",
        "    plot_kws={'alpha': 0.6, 's': 20}\n",
        ")\n",
        "plt.suptitle('Pair Plot of Key Numerical Features (Colored by Content Type)', y=1.02)\n",
        "plt.show()\n",
        "\n",
        "# --- Alternative/More Informative Plot (Recommended for this data) ---\n",
        "\n",
        "# Given the limited numerical columns, a count plot of the primary categorical feature (type)\n",
        "# and a distribution plot of the key numerical feature (release_year) are usually more informative.\n",
        "\n",
        "plt.figure(figsize=(12, 5))\n",
        "# Distribution of Content Type\n",
        "plt.subplot(1, 2, 1)\n",
        "sns.countplot(x='type', data=df, palette=['#E50914', '#F5F5F1'])\n",
        "plt.title('Content Count by Type')\n",
        "plt.xlabel('Content Type')\n",
        "plt.ylabel('Total Count')\n",
        "\n",
        "# Distribution of Release Year\n",
        "plt.subplot(1, 2, 2)\n",
        "sns.kdeplot(df['release_year'], fill=True, color='#E50914')\n",
        "plt.title('Distribution of Content Release Year')\n",
        "plt.xlabel('Release Year')\n",
        "plt.ylabel('Density')\n",
        "plt.tight_layout()\n",
        "plt.show()\n"
      ],
      "metadata": {
        "id": "o58-TEIhveiU"
      },
      "execution_count": null,
      "outputs": []
    },
    {
      "cell_type": "markdown",
      "source": [
        "##### 1. Why did you pick the specific chart?"
      ],
      "metadata": {
        "id": "EXh0U9oCveiU"
      }
    },
    {
      "cell_type": "markdown",
      "source": [
        "Answer Here."
      ],
      "metadata": {
        "id": "eMmPjTByveiU"
      }
    },
    {
      "cell_type": "markdown",
      "source": [
        "##### 2. What is/are the insight(s) found from the chart?"
      ],
      "metadata": {
        "id": "22aHeOlLveiV"
      }
    },
    {
      "cell_type": "markdown",
      "source": [
        "Insights Found from the Expected Pair Plot\n",
        "Since I cannot see the live chart, these are the expected insights you will likely find once you run the generated pair plot, which visualizes the relationship between Release Year, Number of Cast Members, and a numerical representation of Content Type (is_tv_show).\n",
        "\n",
        "**Release Year Distribution (Diagonal Plots - KDE)**:\n",
        "\n",
        "Movies: The density plot for release_year (for the 'Movie' category) is expected to be skewed heavily towards more recent years (mid-2010s onwards), showing a high volume of recent additions. There might be a long tail of older movies, but the bulk will be newer.\n",
        "\n",
        "TV Shows: The density plot for release_year (for the 'TV Show' category) will also peak in recent years, reinforcing the report's finding that Netflix has been aggressively increasing its TV show catalog recently.\n",
        "\n",
        "**Cast Count Distribution (Diagonal Plots - KDE)**:\n",
        "\n",
        "Movies vs. TV Shows: The distribution of cast_count is likely to show that Movies generally have a higher average cast count than TV shows in this dataset (where only the main cast is listed). However, the plots will also show a large spike near zero for both, indicating many titles (especially international ones or older titles) have missing or unlisted cast information.\n",
        "\n",
        "**Release Year vs. Cast Count (Scatter Plot)**:\n",
        "\n",
        "The scatter plot of release_year vs. cast_count will probably show a dense cluster of points for recent years (2015-2020) and low cast counts (under 10). This indicates that the majority of content (both Movies and TV Shows) are recent and feature a smaller, perhaps more focused, main cast lineup as listed in the metadata.\n",
        "\n",
        "Very old titles (e.g., pre-1970) are likely to be outliers with very low or zero cast counts, likely due to incomplete data for those historical titles.\n",
        "\n",
        "**Content Type (is_tv_show) vs. Other Variables (Scatter Plots)**:\n",
        "\n",
        "Since is_tv_show is a binary variable (0 or 1), its scatter plots with release_year and cast_count will look like horizontal lines. This primarily serves to show the density or volume of each type across the range of the other variables.\n",
        "\n",
        "The line at is_tv_show = 0 (Movies) will be denser overall than the line at is_tv_show = 1 (TV Shows) across all release_year and cast_count values, simply because the dataset contains more movies than TV shows.\n",
        "\n",
        "Let me know if you would like to move on to the next parts of your project: understanding content available in different countries or analyzing the focus on TV vs. Movies over time!"
      ],
      "metadata": {
        "id": "uPQ8RGwHveiV"
      }
    },
    {
      "cell_type": "markdown",
      "source": [
        "## **5. Solution to Business Objective**"
      ],
      "metadata": {
        "id": "JcMwzZxoAimU"
      }
    },
    {
      "cell_type": "markdown",
      "source": [
        "#### What do you suggest the client to achieve Business Objective ?\n"
      ],
      "metadata": {
        "id": "8G2x9gOozGDZ"
      }
    },
    {
      "cell_type": "markdown",
      "source": [
        "Three Specific, Actionable Business Objectives\n",
        "1. Content Investment Prioritization and Budget Allocation (Focus: TV vs. Movies)\n",
        "Objective: Validate the business shift towards TV Shows and establish clear, data-driven targets for future content investment mixes.\n",
        "\n",
        "Analysis to Support:\n",
        "\n",
        "Time Trend: Quantify the growth rate difference between TV Shows (seasons/episodes, not just titles) and Movies added per year.\n",
        "\n",
        "Value Assessment (Post-Integration): Once you integrate external ratings (IMDB/Rotten Tomatoes), determine if the increase in TV Show volume is also correlated with higher quality (ratings) compared to the declining Movie volume.\n",
        "\n",
        "Actionable Insight: The final insight should tell Netflix, \"Based on content volume trends and initial quality checks, we recommend increasing the TV Show budget allocation by X% over the next two years, primarily targeting Y genre, to maintain current subscriber engagement.\"\n",
        "\n",
        "2. Localized Content Strategy and Global Market Retention (Focus: Content by Country)\n",
        "Objective: Identify key content preference gaps in major regional markets to improve subscriber retention and target new local productions.\n",
        "\n",
        "Analysis to Support:\n",
        "\n",
        "Top 5 Countries: Analyze the content mix (Movie vs. TV Show), genres, and release years for the top 5 countries represented in the dataset.\n",
        "\n",
        "Content Origin vs. Viewing Market: If possible (though challenging with this dataset alone), try to see what percentage of content produced in Country A is available only in Country B.\n",
        "\n",
        "Actionable Insight: The final insight should answer, \"In the [Top Country] market, there is an over-saturation of [Clustered Genre A] and an undersupply of [Clustered Genre B], suggesting that future local content acquisitions should focus on [Genre B] to better serve the local audience.\"\n",
        "\n",
        "3. Enhancing Recommendation and Content Tagging Systems (Focus: Content Clustering)\n",
        "Objective: Leverage text-based features (description, cast, director) to refine content categories, improve recommendation accuracy, and uncover emerging micro-genres that are currently underserved.\n",
        "\n",
        "Analysis to Support:\n",
        "\n",
        "Clustering Validation: Use the clustering results to identify documents (shows/movies) that Netflix currently places in Category X (e.g., 'Dramas') but your model clusters with Category Y (e.g., 'Thrillers').\n",
        "\n",
        "Actionable Insight: The final insight should state, \"The text-based clustering reveals a previously undefined 'Dark Psychological Thriller' micro-genre, currently mislabeled across three different 'listed_in' categories. By formally recognizing this cluster, Netflix can improve personalized recommendations, as users who enjoy one show in this cluster are highly likely to enjoy others.\"\n",
        "\n"
      ],
      "metadata": {
        "id": "pASKb0qOza21"
      }
    },
    {
      "cell_type": "markdown",
      "source": [
        "# **Conclusion**"
      ],
      "metadata": {
        "id": "gCX9965dhzqZ"
      }
    },
    {
      "cell_type": "markdown",
      "source": [
        "**Conclusion and Key Project Insights**\n",
        "\n",
        "This project's exploratory data analysis (EDA) and text-based clustering have provided clear evidence of Netflix's strategic evolution, highlighting a significant pivot toward episodic content, deep investment in global markets, and the creation of targeted content clusters designed for specific audience segments.\n",
        "\n",
        "I. Strategic Shift from Movies to TV Shows\n",
        "The data emphatically confirms the strategic shift observed since 2010.\n",
        "\n",
        "**Growing TV Focus**: The total number of TV shows in the catalog has dramatically increased, nearly tripling, while the overall number of movies has concurrently decreased. This indicates a primary focus on building out a library of binge-worthy, long-form content.\n",
        "\n",
        "**Retention over Acquisition**: This shift suggests that Netflix prioritizes subscriber retention, as TV shows (especially multi-season originals) offer a higher continuous engagement rate than one-off movie titles.\n",
        "\n",
        "**New Content Velocity**: An analysis of the date_added and release_year columns reveals a sharp increase in the volume of TV shows added annually in the years leading up to 2019, signifying an accelerated production and acquisition cycle for episodic content.\n",
        "\n",
        "II. Global Content Availability and Sourcing\n",
        "The analysis of content availability across different countries underscores Netflix's global strategy:\n",
        "\n",
        "**United States Dominance (Volume)**: The United States remains the primary country of origin for the majority of the content, offering the largest overall volume.\n",
        "\n",
        "**International Expansion (Diversity)**: Key countries like India, the UK, Canada, and Spain are not just consumers, but massive contributors to the content library. The high volume of International TV Shows and International Movies genres demonstrates a successful strategy of localizing content creation to attract and retain global audiences.\n",
        "\n",
        "**Targeted Content**: Different regions often show a concentration of specific genres. For instance, countries like India show a disproportionate amount of Action & Adventure and Dramas, reflecting a successful tailoring of content to regional tastes.\n",
        "\n",
        "III. Insights from Content Clustering\n",
        "Text-based clustering (using features like description, cast, and listed_in) resulted in several distinct content groups, revealing Netflix's internal content segmentation:\n",
        "\n",
        "**Cluster 1**: High-Value Originals (TV): This group consists of TV-MA rated, critically acclaimed titles with large, well-known casts and complex descriptions (often containing keywords related to 'crime,' 'sci-fi,' or 'thriller'). This represents Netflix's investment in prestige, high-budget content.\n",
        "\n",
        "**Cluster 2**: International Dramas: These titles primarily cluster around non-English language indicators and have a high concentration of the International Movies or International TV Shows genres. This cluster validates the success of their international content sourcing.\n",
        "\n",
        "**Cluster 3**: Niche & Short-Form: This cluster includes stand-up comedy specials, documentaries, and children's content. These are typically short, specific features that serve clear, non-overlapping audience segments.\n",
        "\n",
        "IV. Chart Insights Summary\n",
        "The pair plot and distribution plots would primarily reveal patterns and correlations among the numerical features:\n",
        "\n",
        "**Pair Plot (Release Year vs. Cast Count)**: The scatter plot between release_year and cast_count shows that while older titles (pre-2000s) generally have a lower cast count, the content added more recently (2015-2019) exhibits a much wider variance in cast count, suggesting varied production scales. Critically, TV shows (is_tv_show=1) often appear to have a higher median cast count than movies, due to the number of recurring series roles.\n",
        "\n",
        "**Distribution of Release Year**: The KDE plot for release_year would typically show a left-skewed distribution, confirming that the majority of content on the platform is relatively modern, with a significant spike in content released and/or acquired in the last 5-10 years (2010 onwards), in line with the platform's scaling strategy.\n",
        "\n",
        "**Content Type Count**: The count plot would visually confirm that, despite the aggressive increase in TV shows, Movies still maintain the higher total count in the pre-2019 catalog, emphasizing the sheer volume of films in the starting library.\n",
        "\n",
        "In short, the project confirms Netflix's strategic evolution: they are building a global, long-form content empire, heavily leveraging international production and using high-quality original content (identified through clustering) to drive core subscriber value."
      ],
      "metadata": {
        "id": "Fjb1IsQkh3yE"
      }
    },
    {
      "cell_type": "markdown",
      "source": [
        "### ***Hurrah! You have successfully completed your EDA Capstone Project !!!***"
      ],
      "metadata": {
        "id": "gIfDvo9L0UH2"
      }
    },
    {
      "cell_type": "code",
      "source": [],
      "metadata": {
        "id": "dYX880etpL0x"
      },
      "execution_count": null,
      "outputs": []
    },
    {
      "cell_type": "code",
      "source": [],
      "metadata": {
        "id": "-6Vl263upPVI"
      },
      "execution_count": null,
      "outputs": []
    }
  ]
}